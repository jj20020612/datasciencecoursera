{
 "cells": [
  {
   "cell_type": "code",
   "execution_count": 1,
   "metadata": {},
   "outputs": [
    {
     "name": "stdout",
     "output_type": "stream",
     "text": [
      "Hello world\n"
     ]
    }
   ],
   "source": [
    "#This cell is a code cell. pressing shift-enter or using the run cell button\n",
    "#will evaluate the code in this cell and move to the next one\n",
    "#there are also hotkeys to evaluatate and stay at the same cell --control center. \n",
    "#The \"run cell\" button looks like a little black triangle. \n",
    "\n",
    "print ('Hello world')"
   ]
  },
  {
   "cell_type": "code",
   "execution_count": 2,
   "metadata": {},
   "outputs": [
    {
     "name": "stdout",
     "output_type": "stream",
     "text": [
      "4\n"
     ]
    }
   ],
   "source": [
    "#create a variable named, a and store the value 3+1 in it\n",
    "a = 3+1\n",
    "\n",
    "#display a\n",
    "print(a)"
   ]
  },
  {
   "cell_type": "code",
   "execution_count": 4,
   "metadata": {},
   "outputs": [
    {
     "name": "stdout",
     "output_type": "stream",
     "text": [
      "three plus one is 4\n"
     ]
    }
   ],
   "source": [
    "#you can combine mulitple objects in the same print statement\n",
    "print ( \"three plus one is {}\" .format(a))"
   ]
  },
  {
   "cell_type": "code",
   "execution_count": 5,
   "metadata": {},
   "outputs": [
    {
     "name": "stdout",
     "output_type": "stream",
     "text": [
      "Jin Li\n"
     ]
    }
   ],
   "source": [
    "first_name = \"Jin\" #you must change the line \n",
    "last_name = \"Li\"\n",
    "print (first_name, last_name)"
   ]
  },
  {
   "cell_type": "code",
   "execution_count": null,
   "metadata": {},
   "outputs": [],
   "source": []
  },
  {
   "cell_type": "code",
   "execution_count": null,
   "metadata": {},
   "outputs": [],
   "source": []
  },
  {
   "cell_type": "code",
   "execution_count": 7,
   "metadata": {},
   "outputs": [
    {
     "name": "stdout",
     "output_type": "stream",
     "text": [
      "Given Name\tSurname\n",
      "Jin Li\n"
     ]
    }
   ],
   "source": [
    "print(\"Given Name\\tSurname\\n{} {}\" .format(first_name, last_name))"
   ]
  },
  {
   "cell_type": "code",
   "execution_count": 10,
   "metadata": {},
   "outputs": [],
   "source": [
    "def foo():\n",
    "    return 42"
   ]
  },
  {
   "cell_type": "markdown",
   "metadata": {},
   "source": [
    "Keywords and symbols just used:\n",
    "  def -- Python keyword indicate that the thing that follows it is a function\n",
    "  : -- the colon delimiter is important in python. You'll get an error without it. \n",
    "  ()-- Required for a function, the stuff inside indicate what the function needs as argumets to opereate. there is nothing        in this set of parentheses. \n",
    "   tabs or space -- there are four spaces indenting the line following the colon . you need those to be in eh scope of the function foo\n",
    "   return -- what is the value that should be given back to the caller, to possibly capture?\n",
    "   42 -- the value 42 should given back. Real function don't hardcode a single value like this, typically, but instead construct the things they give back"
   ]
  },
  {
   "cell_type": "code",
   "execution_count": 11,
   "metadata": {},
   "outputs": [
    {
     "data": {
      "text/plain": [
       "42"
      ]
     },
     "execution_count": 11,
     "metadata": {},
     "output_type": "execute_result"
    }
   ],
   "source": [
    "foo()"
   ]
  },
  {
   "cell_type": "code",
   "execution_count": 12,
   "metadata": {},
   "outputs": [],
   "source": [
    "v = foo()"
   ]
  },
  {
   "cell_type": "code",
   "execution_count": 23,
   "metadata": {},
   "outputs": [],
   "source": [
    "import random\n",
    "\n",
    "def make_message(first, last):\n",
    "    if first in [\"Given\", \"\"]:\n",
    "        raise ValueError(\"Unchanged or empty first or last name\")\n",
    "    return \"Hi, {} {}, it's nice to meet you! I'm Robot #{}\" .format(first, last, random.randint(0,100000))"
   ]
  },
  {
   "cell_type": "code",
   "execution_count": 24,
   "metadata": {},
   "outputs": [],
   "source": [
    "var = make_message(first_name, last_name)"
   ]
  },
  {
   "cell_type": "code",
   "execution_count": 25,
   "metadata": {},
   "outputs": [
    {
     "name": "stdout",
     "output_type": "stream",
     "text": [
      "Hi, Jin Li, it's nice to meet you! I'm Robot #50196\n"
     ]
    }
   ],
   "source": [
    "print(var)"
   ]
  },
  {
   "cell_type": "markdown",
   "metadata": {},
   "source": [
    "My name is Jin Li. Very nice to work with peers \n",
    "\n",
    "I worked at Wells Fargo company as a ETL developer. I am interesting in the data science because it will help me learning the hot topic include tool and methods matched our company's strategic future.   \n",
    "\n",
    "I have used SQL for past 6 years. I have taken the class to learn SQL and pass the Microsoft data analyst expert exam and learn \n",
    "I am currently working at home mortgage technology in the wells fargo bank. Our company have made the strategic target to move into data science to analytic \n",
    "I did not learn specially for statistics experience. and learn it when I was in the university. \n",
    "Don't have experience with R and Python in current working\n",
    "I am working full time an learn the master of data science degree. it will take much longer than usully student to get it done. Like to learn how another student handling the working and learning at the same time. "
   ]
  }
 ],
 "metadata": {
  "kernelspec": {
   "display_name": "Python 3",
   "language": "python",
   "name": "python3"
  },
  "language_info": {
   "codemirror_mode": {
    "name": "ipython",
    "version": 3
   },
   "file_extension": ".py",
   "mimetype": "text/x-python",
   "name": "python",
   "nbconvert_exporter": "python",
   "pygments_lexer": "ipython3",
   "version": "3.7.4"
  }
 },
 "nbformat": 4,
 "nbformat_minor": 2
}
